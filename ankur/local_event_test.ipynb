{
 "cells": [
  {
   "cell_type": "code",
   "execution_count": 1,
   "source": [
    "from web3 import Web3\r\n",
    "import json;"
   ],
   "outputs": [],
   "metadata": {}
  },
  {
   "cell_type": "code",
   "execution_count": 2,
   "source": [
    "ganache_url = \"http://127.0.0.1:8545\"\r\n",
    "web3 = Web3(Web3.HTTPProvider(ganache_url))\r\n",
    "web3.isConnected()"
   ],
   "outputs": [
    {
     "output_type": "execute_result",
     "data": {
      "text/plain": [
       "True"
      ]
     },
     "metadata": {},
     "execution_count": 2
    }
   ],
   "metadata": {}
  },
  {
   "cell_type": "code",
   "execution_count": 3,
   "source": [
    "f = open(\"abi.json\")\r\n",
    "abi = json.load(f)\r\n",
    "f.close()"
   ],
   "outputs": [],
   "metadata": {}
  },
  {
   "cell_type": "code",
   "execution_count": 5,
   "source": [
    "web3.eth.default_account = web3.eth.accounts[0]"
   ],
   "outputs": [],
   "metadata": {}
  },
  {
   "cell_type": "code",
   "execution_count": 11,
   "source": [
    "myContract = web3.eth.contract(address=\"0x1B6B7Fd99f72AfB833da1ca9DCc22540fdDDE12b\", abi = abi)\r\n",
    "tx_hash = myContract.functions.buyTicket(10,20,30,40,50,60).transact({\"value\": web3.toWei(1,\"ether\")})\r\n",
    "receipt = web3.eth.get_transaction_receipt(tx_hash)\r\n"
   ],
   "outputs": [],
   "metadata": {}
  },
  {
   "cell_type": "code",
   "execution_count": 12,
   "source": [
    "print(receipt)"
   ],
   "outputs": [
    {
     "output_type": "stream",
     "name": "stdout",
     "text": [
      "AttributeDict({'transactionHash': HexBytes('0x6a63713c86306c57cfea900ed844e21b747a2efc3e52154f0897da96985c1c7a'), 'transactionIndex': 0, 'blockHash': HexBytes('0x56d1c048a5edd7760fe27a2a405e515e92fb9b027f2e9e24444765a72a5f53f5'), 'blockNumber': 76, 'from': '0x325884399c77F899d336Dd0789090B8a487b1eab', 'to': '0x1B6B7Fd99f72AfB833da1ca9DCc22540fdDDE12b', 'gasUsed': 89012, 'cumulativeGasUsed': 89012, 'contractAddress': None, 'logs': [AttributeDict({'logIndex': 0, 'transactionIndex': 0, 'transactionHash': HexBytes('0x6a63713c86306c57cfea900ed844e21b747a2efc3e52154f0897da96985c1c7a'), 'blockHash': HexBytes('0x56d1c048a5edd7760fe27a2a405e515e92fb9b027f2e9e24444765a72a5f53f5'), 'blockNumber': 76, 'address': '0x1B6B7Fd99f72AfB833da1ca9DCc22540fdDDE12b', 'data': '0x000000000000000000000000325884399c77f899d336dd0789090b8a487b1eab000000000000000000000000000000000000000000000000000000000000000a0000000000000000000000000000000000000000000000000000000000000014000000000000000000000000000000000000000000000000000000000000001e00000000000000000000000000000000000000000000000000000000000000280000000000000000000000000000000000000000000000000000000000000032000000000000000000000000000000000000000000000000000000000000003c', 'topics': [HexBytes('0x4e46df49424dfdeac72109c750b8f1422cf6953728e6d3a23de14cfe33786ef1')], 'type': 'mined'})], 'status': 1, 'logsBloom': HexBytes('0x00000000000000000000000000000000000000000000000000000000000000000001000000000000000000000000000000000000000000000000000000000000000000000000000000000000000000000000000000002000000000000000000000000000000000000000000000000000000000000000000000000000000000000000000000000000000002000000000000000000000000000000000000000000000000000000000000000000000000000000000000000000000000000020000000000000000000000000000040000000000000000000000000000000000000000000000000000000000000000000000000000000002000000000000000000000')})\n"
     ]
    }
   ],
   "metadata": {}
  },
  {
   "cell_type": "code",
   "execution_count": 13,
   "source": [
    "block_filter = web3.eth.filter({'fromBlock':'latest', 'address':'0x1B6B7Fd99f72AfB833da1ca9DCc22540fdDDE12b'})\r\n",
    "for event in block_filter.get_all_entries():\r\n",
    "    print(event)"
   ],
   "outputs": [
    {
     "output_type": "stream",
     "name": "stdout",
     "text": [
      "AttributeDict({'logIndex': 0, 'transactionIndex': 0, 'transactionHash': HexBytes('0x6a63713c86306c57cfea900ed844e21b747a2efc3e52154f0897da96985c1c7a'), 'blockHash': HexBytes('0x56d1c048a5edd7760fe27a2a405e515e92fb9b027f2e9e24444765a72a5f53f5'), 'blockNumber': 76, 'address': '0x1B6B7Fd99f72AfB833da1ca9DCc22540fdDDE12b', 'data': '0x000000000000000000000000325884399c77f899d336dd0789090b8a487b1eab000000000000000000000000000000000000000000000000000000000000000a0000000000000000000000000000000000000000000000000000000000000014000000000000000000000000000000000000000000000000000000000000001e00000000000000000000000000000000000000000000000000000000000000280000000000000000000000000000000000000000000000000000000000000032000000000000000000000000000000000000000000000000000000000000003c', 'topics': [HexBytes('0x4e46df49424dfdeac72109c750b8f1422cf6953728e6d3a23de14cfe33786ef1')], 'type': 'mined'})\n"
     ]
    }
   ],
   "metadata": {}
  },
  {
   "cell_type": "code",
   "execution_count": 16,
   "source": [
    "myContract.events.ticketBought().processReceipt(receipt)"
   ],
   "outputs": [
    {
     "output_type": "execute_result",
     "data": {
      "text/plain": [
       "(AttributeDict({'args': AttributeDict({'buyer': '0x325884399c77F899d336Dd0789090B8a487b1eab',\n",
       "   'num1': 10,\n",
       "   'num2': 20,\n",
       "   'num3': 30,\n",
       "   'num4': 40,\n",
       "   'num5': 50,\n",
       "   'num6': 60}),\n",
       "  'event': 'ticketBought',\n",
       "  'logIndex': 0,\n",
       "  'transactionIndex': 0,\n",
       "  'transactionHash': HexBytes('0x6a63713c86306c57cfea900ed844e21b747a2efc3e52154f0897da96985c1c7a'),\n",
       "  'address': '0x1B6B7Fd99f72AfB833da1ca9DCc22540fdDDE12b',\n",
       "  'blockHash': HexBytes('0x56d1c048a5edd7760fe27a2a405e515e92fb9b027f2e9e24444765a72a5f53f5'),\n",
       "  'blockNumber': 76}),)"
      ]
     },
     "metadata": {},
     "execution_count": 16
    }
   ],
   "metadata": {}
  },
  {
   "cell_type": "code",
   "execution_count": null,
   "source": [],
   "outputs": [],
   "metadata": {}
  }
 ],
 "metadata": {
  "orig_nbformat": 4,
  "language_info": {
   "name": "python",
   "version": "3.7.10",
   "mimetype": "text/x-python",
   "codemirror_mode": {
    "name": "ipython",
    "version": 3
   },
   "pygments_lexer": "ipython3",
   "nbconvert_exporter": "python",
   "file_extension": ".py"
  },
  "kernelspec": {
   "name": "python3",
   "display_name": "Python 3.7.10 64-bit ('ethereum': conda)"
  },
  "interpreter": {
   "hash": "cb6c4b56b8991da89118dad85ccf5659bf9154963ad4cec5e33f4a3f6c317b36"
  }
 },
 "nbformat": 4,
 "nbformat_minor": 2
}