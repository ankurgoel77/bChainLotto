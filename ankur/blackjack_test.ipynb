{
 "cells": [
  {
   "cell_type": "code",
   "execution_count": 12,
   "source": [
    "from web3 import Web3\r\n",
    "import json\r\n",
    "from eth_account import Account"
   ],
   "outputs": [],
   "metadata": {}
  },
  {
   "cell_type": "code",
   "execution_count": 2,
   "source": [
    "f = open(\"blackjack_abi.json\")\r\n",
    "abi = json.load(f)\r\n",
    "f.close()\r\n",
    "\r\n",
    "f = open(\"blackjack_bytecode.json\")\r\n",
    "bytecode_json = json.load(f)\r\n",
    "f.close()\r\n",
    "bytecode = bytecode_json[\"object\"]"
   ],
   "outputs": [],
   "metadata": {}
  },
  {
   "cell_type": "code",
   "execution_count": 3,
   "source": [
    "ganache_server = \"http://127.0.0.1:8545\"\r\n",
    "web3 = Web3(Web3.HTTPProvider(ganache_server))\r\n",
    "web3.isConnected()"
   ],
   "outputs": [
    {
     "output_type": "execute_result",
     "data": {
      "text/plain": [
       "True"
      ]
     },
     "metadata": {},
     "execution_count": 3
    }
   ],
   "metadata": {}
  },
  {
   "cell_type": "code",
   "execution_count": 5,
   "source": [
    "dealer = web3.eth.accounts[1]\r\n",
    "player = web3.eth.accounts[2]\r\n",
    "web3.eth.default_account = dealer\r\n",
    "web3.eth.default_account"
   ],
   "outputs": [
    {
     "output_type": "execute_result",
     "data": {
      "text/plain": [
       "'0xD4012bA179d69DBB8EB7D3Aa83e3010A76AF52ac'"
      ]
     },
     "metadata": {},
     "execution_count": 5
    }
   ],
   "metadata": {}
  },
  {
   "cell_type": "code",
   "execution_count": 27,
   "source": [
    "account = Account.from_key(\"d5046127ca371f85b9268b4c3b6a2b5fa891c66e38c2532726215a7ce4673d32\").address\r\n",
    "account\r\n"
   ],
   "outputs": [
    {
     "output_type": "execute_result",
     "data": {
      "text/plain": [
       "'0xD4012bA179d69DBB8EB7D3Aa83e3010A76AF52ac'"
      ]
     },
     "metadata": {},
     "execution_count": 27
    }
   ],
   "metadata": {}
  },
  {
   "cell_type": "code",
   "execution_count": 21,
   "source": [
    "#current default is dealer\r\n",
    "blackjack_contract = web3.eth.contract(abi=abi, bytecode=bytecode)\r\n",
    "tx_hash_construct = blackjack_contract.constructor(player, 100).transact({\"value\":250})\r\n",
    "tx_receipt_construct = web3.eth.waitForTransactionReceipt(tx_hash_construct)\r\n",
    "current_game_contract = web3.eth.contract(address=tx_receipt_construct.contractAddress, abi=abi)\r\n",
    "print(current_game_contract)"
   ],
   "outputs": [
    {
     "output_type": "stream",
     "name": "stdout",
     "text": [
      "<web3._utils.datatypes.Contract object at 0x000002468C6449C8>\n"
     ]
    }
   ],
   "metadata": {}
  },
  {
   "cell_type": "code",
   "execution_count": 22,
   "source": [
    "# change account to player\r\n",
    "web3.eth.default_account = player\r\n",
    "tx_hash_ante = current_game_contract.functions.ante().transact({\"value\":100})\r\n",
    "tx_receipt_ante = web3.eth.waitForTransactionReceipt(tx_hash_ante)\r\n",
    "player_hand = current_game_contract.functions.getPlayerHand().call()\r\n",
    "player_hand_value = current_game_contract.functions.getPlayerHandValue().call()"
   ],
   "outputs": [],
   "metadata": {}
  },
  {
   "cell_type": "code",
   "execution_count": 10,
   "source": [
    "player_hand"
   ],
   "outputs": [
    {
     "output_type": "execute_result",
     "data": {
      "text/plain": [
       "[44, 21]"
      ]
     },
     "metadata": {},
     "execution_count": 10
    }
   ],
   "metadata": {}
  },
  {
   "cell_type": "code",
   "execution_count": 13,
   "source": [
    "player_hand_value"
   ],
   "outputs": [
    {
     "output_type": "execute_result",
     "data": {
      "text/plain": [
       "13"
      ]
     },
     "metadata": {},
     "execution_count": 13
    }
   ],
   "metadata": {}
  },
  {
   "cell_type": "code",
   "execution_count": 16,
   "source": [
    "def card_num_to_string(number):\r\n",
    "    card_str = \"\"\r\n",
    "    mod = number % 13\r\n",
    "    div = number // 13\r\n",
    "\r\n",
    "    if mod == 0:\r\n",
    "        card_str += \"A\"\r\n",
    "    elif mod == 10:\r\n",
    "        card_str += \"J\"\r\n",
    "    elif mod == 11:\r\n",
    "        card_str += \"Q\"\r\n",
    "    elif mod == 12:\r\n",
    "        card_str += \"K\"\r\n",
    "    else:\r\n",
    "        card_str += f\"{mod+1}\"\r\n",
    "\r\n",
    "    if div == 0:\r\n",
    "        card_str += \" Spades\"\r\n",
    "    elif div == 1:\r\n",
    "        card_str += \" Hearts\"\r\n",
    "    elif div == 2:\r\n",
    "        card_str += \" Diamonds\"\r\n",
    "    elif div == 3:\r\n",
    "        card_str += \" Clubs\"\r\n",
    "\r\n",
    "    return card_str\r\n",
    "\r\n"
   ],
   "outputs": [],
   "metadata": {}
  },
  {
   "cell_type": "code",
   "execution_count": 17,
   "source": [
    "for num in player_hand:\r\n",
    "    print(card_num_to_string(num))"
   ],
   "outputs": [
    {
     "output_type": "stream",
     "name": "stdout",
     "text": [
      "Q Clubs\n",
      "3 Hearts\n"
     ]
    }
   ],
   "metadata": {}
  },
  {
   "cell_type": "code",
   "execution_count": 19,
   "source": [
    "tx_hash_ante = current_game_contract.functions.hit().transact()\r\n",
    "tx_receipt_ante = web3.eth.waitForTransactionReceipt(tx_hash_ante)\r\n",
    "player_hand = current_game_contract.functions.getPlayerHand().call()\r\n",
    "player_hand_value = current_game_contract.functions.getPlayerHandValue().call()"
   ],
   "outputs": [],
   "metadata": {}
  },
  {
   "cell_type": "code",
   "execution_count": 20,
   "source": [
    "for num in player_hand:\r\n",
    "    print(card_num_to_string(num))"
   ],
   "outputs": [
    {
     "output_type": "stream",
     "name": "stdout",
     "text": [
      "Q Clubs\n",
      "3 Hearts\n",
      "5 Clubs\n"
     ]
    }
   ],
   "metadata": {}
  },
  {
   "cell_type": "code",
   "execution_count": 21,
   "source": [
    "player_hand_value"
   ],
   "outputs": [
    {
     "output_type": "execute_result",
     "data": {
      "text/plain": [
       "18"
      ]
     },
     "metadata": {},
     "execution_count": 21
    }
   ],
   "metadata": {}
  },
  {
   "cell_type": "code",
   "execution_count": 22,
   "source": [
    "tx_hash_stand = current_game_contract.functions.hit().transact()\r\n",
    "tx_receipt_stand = web3.eth.waitForTransactionReceipt(tx_hash_stand)\r\n",
    "player_hand = current_game_contract.functions.getPlayerHand().call()\r\n",
    "player_hand_value = current_game_contract.functions.getPlayerHandValue().call()"
   ],
   "outputs": [],
   "metadata": {}
  },
  {
   "cell_type": "code",
   "execution_count": 23,
   "source": [
    "for num in player_hand:\r\n",
    "    print(card_num_to_string(num))\r\n",
    "print(player_hand_value)"
   ],
   "outputs": [
    {
     "output_type": "stream",
     "name": "stdout",
     "text": [
      "Q Clubs\n",
      "3 Hearts\n",
      "5 Clubs\n",
      "10 Diamonds\n",
      "28\n"
     ]
    }
   ],
   "metadata": {}
  },
  {
   "cell_type": "code",
   "execution_count": 24,
   "source": [
    "current_game_contract.functions.getDealerHand().call()"
   ],
   "outputs": [
    {
     "output_type": "execute_result",
     "data": {
      "text/plain": [
       "[37, 44]"
      ]
     },
     "metadata": {},
     "execution_count": 24
    }
   ],
   "metadata": {}
  },
  {
   "cell_type": "code",
   "execution_count": null,
   "source": [],
   "outputs": [],
   "metadata": {}
  }
 ],
 "metadata": {
  "orig_nbformat": 4,
  "language_info": {
   "name": "python",
   "version": "3.7.11",
   "mimetype": "text/x-python",
   "codemirror_mode": {
    "name": "ipython",
    "version": 3
   },
   "pygments_lexer": "ipython3",
   "nbconvert_exporter": "python",
   "file_extension": ".py"
  },
  "kernelspec": {
   "name": "python3",
   "display_name": "Python 3.7.10 64-bit ('ethereum': conda)"
  },
  "interpreter": {
   "hash": "cb6c4b56b8991da89118dad85ccf5659bf9154963ad4cec5e33f4a3f6c317b36"
  }
 },
 "nbformat": 4,
 "nbformat_minor": 2
}