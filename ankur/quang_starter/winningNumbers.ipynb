{
 "cells": [
  {
   "cell_type": "code",
   "execution_count": 1,
   "source": [
    "import json\r\n",
    "from web3 import Web3"
   ],
   "outputs": [],
   "metadata": {}
  },
  {
   "cell_type": "code",
   "execution_count": 2,
   "source": [
    "f = open(\"abi.json\")\r\n",
    "abi = json.load(f)\r\n",
    "f.close()\r\n",
    "\r\n",
    "f = open(\"bytecode.json\")\r\n",
    "bytecode_json = json.load(f)\r\n",
    "f.close()\r\n",
    "bytecode = bytecode_json[\"object\"]\r\n"
   ],
   "outputs": [],
   "metadata": {}
  },
  {
   "cell_type": "markdown",
   "source": [
    "### You will need to make sure Ganache is running and is setup for http://127.0.0.1:8545.\r\n",
    "### Also make sure your first account has several ether to run this script"
   ],
   "metadata": {}
  },
  {
   "cell_type": "code",
   "execution_count": 3,
   "source": [
    "ganache_server = \"http://127.0.0.1:8545\"\r\n",
    "web3 = Web3(Web3.HTTPProvider(ganache_server))\r\n",
    "web3.isConnected()"
   ],
   "outputs": [
    {
     "output_type": "execute_result",
     "data": {
      "text/plain": [
       "True"
      ]
     },
     "metadata": {},
     "execution_count": 3
    }
   ],
   "metadata": {}
  },
  {
   "cell_type": "code",
   "execution_count": 4,
   "source": [
    "web3.eth.default_account = web3.eth.accounts[0]"
   ],
   "outputs": [],
   "metadata": {}
  },
  {
   "cell_type": "code",
   "execution_count": 21,
   "source": [
    "lotto_contract = web3.eth.contract(abi=abi, bytecode=bytecode)\r\n",
    "for i in range(0,10):\r\n",
    "    tx_hash = lotto_contract.constructor(web3.eth.default_account, 60).transact()\r\n",
    "    tx_receipt = web3.eth.waitForTransactionReceipt(tx_hash)\r\n",
    "    current_contract = web3.eth.contract(address=tx_receipt.contractAddress, abi=abi)\r\n",
    "    tx_hash = current_contract.functions.finalize().transact()\r\n",
    "    tx_receipt = web3.eth.waitForTransactionReceipt(tx_hash)\r\n",
    "    winning_numbers = current_contract.functions.getWinningNumbers().call()\r\n",
    "    print(winning_numbers)"
   ],
   "outputs": [
    {
     "output_type": "stream",
     "name": "stdout",
     "text": [
      "[16, 20, 23, 34, 40, 50]\n",
      "[2, 10, 31, 43, 50, 57]\n",
      "[1, 8, 11, 16, 26, 30]\n",
      "[3, 5, 35, 49, 51, 58]\n",
      "[2, 7, 25, 49, 53, 58]\n",
      "[8, 11, 15, 27, 33, 56]\n",
      "[10, 19, 21, 29, 32, 59]\n",
      "[3, 11, 20, 34, 48, 58]\n",
      "[11, 16, 29, 33, 49, 56]\n",
      "[2, 17, 35, 37, 50, 56]\n"
     ]
    }
   ],
   "metadata": {}
  },
  {
   "cell_type": "code",
   "execution_count": null,
   "source": [],
   "outputs": [],
   "metadata": {}
  }
 ],
 "metadata": {
  "orig_nbformat": 4,
  "language_info": {
   "name": "python",
   "version": "3.7.10",
   "mimetype": "text/x-python",
   "codemirror_mode": {
    "name": "ipython",
    "version": 3
   },
   "pygments_lexer": "ipython3",
   "nbconvert_exporter": "python",
   "file_extension": ".py"
  },
  "kernelspec": {
   "name": "python3",
   "display_name": "Python 3.7.10 64-bit ('ethereum': conda)"
  },
  "interpreter": {
   "hash": "cb6c4b56b8991da89118dad85ccf5659bf9154963ad4cec5e33f4a3f6c317b36"
  }
 },
 "nbformat": 4,
 "nbformat_minor": 2
}